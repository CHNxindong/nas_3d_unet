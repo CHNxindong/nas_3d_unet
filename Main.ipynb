{
 "cells": [
  {
   "cell_type": "code",
   "execution_count": null,
   "metadata": {},
   "outputs": [],
   "source": [
    "%load_ext autoreload\n",
    "%autoreload 2\n",
    "%matplotlib inline\n",
    "from preprocess import preprocess\n",
    "from search import Searching\n",
    "from train import Training\n",
    "from prediction import Prediction\n"
   ]
  },
  {
   "cell_type": "code",
   "execution_count": null,
   "metadata": {
    "scrolled": false
   },
   "outputs": [],
   "source": [
    "'''\n",
    "Configurations are set in config.yml.\n",
    "'''\n",
    "# Preprocessing\n",
    "preprocess()\n",
    "\n",
    "# Searching process\n",
    "s = Searching()\n",
    "gene = s.search()\n",
    "\n",
    "# Training with k-fold-cross-validation datasets\n",
    "t = Training()\n",
    "t.main_run()\n",
    "# Training with the whole training set\n",
    "t = Training(for_final_training=True, new_lr=True)\n",
    "t.main_run()\n",
    "\n",
    "# Prediction process\n",
    "p = Prediction()\n",
    "p.predict()\n",
    "p.predict(p.config['data']['training_h5'])"
   ]
  },
  {
   "cell_type": "code",
   "execution_count": null,
   "metadata": {},
   "outputs": [],
   "source": []
  }
 ],
 "metadata": {
  "kernelspec": {
   "display_name": "Python 3",
   "language": "python",
   "name": "python3"
  },
  "language_info": {
   "codemirror_mode": {
    "name": "ipython",
    "version": 3
   },
   "file_extension": ".py",
   "mimetype": "text/x-python",
   "name": "python",
   "nbconvert_exporter": "python",
   "pygments_lexer": "ipython3",
   "version": "3.5.2"
  }
 },
 "nbformat": 4,
 "nbformat_minor": 2
}
