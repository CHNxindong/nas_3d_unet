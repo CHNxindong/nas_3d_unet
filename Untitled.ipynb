{
 "cells": [
  {
   "cell_type": "code",
   "execution_count": 1,
   "metadata": {},
   "outputs": [],
   "source": [
    "%load_ext autoreload\n",
    "%autoreload 2\n",
    "%matplotlib inline\n",
    "import pdb"
   ]
  },
  {
   "cell_type": "code",
   "execution_count": 5,
   "metadata": {},
   "outputs": [
    {
     "name": "stdout",
     "output_type": "stream",
     "text": [
      "{'model': {'arch': 'nas-unet'}, 'training': {'loss': {'aux_weight': 0.7, 'name': 'cross_entropy_with_dice'}, 'grad_clip': 5, 'resume': None, 'n_workers': 4, 'report_freq': 5, 'depth': 6, 'init_channels': 64, 'geno_type': 'NASUNET', 'lr_schedule': {'gamma': 0.995, 'name': 'exp_lr'}, 'backbone': None, 'max_patience': 100, 'double_down_channel': False, 'multi_gpus': False, 'batch_size': 1, 'model_optimizer': {'lr': 0.001, 'name': 'adabound', 'weight_decay': 0.0005}, 'epoch': 800}, 'searching': {'loss': {'size_average': False, 'aux_weight': None, 'name': 'cross_entropy'}, 'grad_clip': 5, 'meta_node_num': 3, 'resume': None, 'n_workers': 2, 'sharing_normal': True, 'report_freq': 20, 'depth': 4, 'init_channels': 16, 'train_portion': 0.5, 'gpu': True, 'max_patience': 40, 'double_down_channel': False, 'multi_gpus': True, 'batch_size': 2, 'model_optimizer': {'lr': 0.001, 'name': 'adabound', 'weight_decay': 0.0005}, 'alpha_begin': 0, 'arch_optimizer': {'lr': 0.0003, 'name': 'adam', 'weight_decay': 0.005}, 'epoch': 300}, 'data': {'training_h5': 'data/training.h5', 'batch_size_val': 2, 'len_testing': 166, 'aug_distort': 0.25, 'len_validation': 125, 'augment_flip': True, 'skip_health': True, 'validation_h5': 'data/validation.h5', 'source_test': 'data/MICCAI_BraTS_2019_Data_Testing', 'labels': [1, 2, 4], 'batch_size_train': 1, 'patch_shape': 128, 'cross_val_indices': 'data/cross_val_indices.pkl', 'patch_overlap': None, 'source_train': 'data/MICCAI_BraTS_2019_Data_Training', 'len_training': 335, 'affine_file': 'data/affine.npy', 'permute': True, 'augment': True, 'all_mods': ['t1', 't1ce', 'flair', 't2'], 'testing_h5': 'data/testing.h5', 'mean_std_file': 'data/mean_std.pkl', 'augment_distortion_factor': 0.25, 'source_val': 'data/MICCAI_BraTS_2019_Data_Validation'}}\n"
     ]
    }
   ],
   "source": [
    "import search\n",
    "searching = search.Searching(jupyter=True)"
   ]
  },
  {
   "cell_type": "code",
   "execution_count": null,
   "metadata": {
    "scrolled": false
   },
   "outputs": [],
   "source": [
    "import time\n",
    "import generator_oop\n",
    "\n",
    "temp = time.time()\n",
    "dataset = generator_oop.Dataset()\n",
    "a = dataset.train_generator\n",
    "b = dataset.val_generator\n",
    "\n",
    "from dev_tools.my_tools import print2d\n",
    "\n",
    "for i,(x,y) in enumerate(b):\n",
    "    print2d(x[0,0])\n",
    "    print2d(y[0,0])\n",
    "    if i>3:\n",
    "        break\n",
    "print(time.time() - temp)"
   ]
  },
  {
   "cell_type": "code",
   "execution_count": null,
   "metadata": {
    "scrolled": false
   },
   "outputs": [],
   "source": [
    "# Dataset\n",
    "from generator import get_training_and_validation_generators\n",
    "from dev_tools.my_tools import print2d\n",
    "\n",
    "temp = time.time()\n",
    "a,b = get_training_and_validation_generators()\n",
    "\n",
    "for i,(x,y) in enumerate(b):\n",
    "    print2d(x[0,0])\n",
    "    print2d(y[0,0])\n",
    "    if i>3:\n",
    "        break\n",
    "print(time.time() - temp)"
   ]
  },
  {
   "cell_type": "code",
   "execution_count": null,
   "metadata": {
    "scrolled": false
   },
   "outputs": [],
   "source": [
    "from dev_tools.my_tools import print2d\n",
    "\n",
    "for i,(x,y) in enumerate(b):\n",
    "    print2d(x[0,0])\n",
    "    print2d(y[0,0])\n",
    "    if i>3:\n",
    "        break\n",
    "\n"
   ]
  },
  {
   "cell_type": "code",
   "execution_count": null,
   "metadata": {},
   "outputs": [],
   "source": [
    "with open('config.yml') as f:\n",
    "    config = yaml.load(f,Loader=yaml.FullLoader)\n",
    "    print(config['data'])\n",
    "with open('a.yml','w') as f:\n",
    "    yaml.dump({'a':[1,2,3]},f)"
   ]
  },
  {
   "cell_type": "code",
   "execution_count": null,
   "metadata": {},
   "outputs": [],
   "source": [
    "class test():\n",
    "    def __init__(self):\n",
    "        pass\n",
    "    def hello(self):\n",
    "        self.a = 1\n",
    "t = test()\n",
    "t.hello()\n",
    "t.a"
   ]
  },
  {
   "cell_type": "code",
   "execution_count": null,
   "metadata": {},
   "outputs": [],
   "source": [
    "\n",
    "\n",
    "# temp = time.time()\n",
    "# print(patching_autofit((240,240,155),(128,128,128)))\n",
    "# print(time.time()-temp)\n",
    "# temp = time.time()\n",
    "# print(patching_hardcode128((240,240,155),(128,128,128)))\n",
    "# print(time.time()-temp)\n",
    "# print(patching((240,240,155),(128,128,128)))\n",
    "\n",
    "# print(np.vstack((a,b)))\n",
    "print('\\n')\n",
    "print(patching((240,240,155),(128,128,128)))\n",
    "print('\\n')\n",
    "print(patching((240,240,155),(128,128,128),overlap=16))"
   ]
  },
  {
   "cell_type": "code",
   "execution_count": null,
   "metadata": {},
   "outputs": [],
   "source": [
    "float('inf') == float('inf')"
   ]
  },
  {
   "cell_type": "code",
   "execution_count": null,
   "metadata": {},
   "outputs": [],
   "source": [
    "(np.array([8,6+12]) -18) % 24"
   ]
  },
  {
   "cell_type": "code",
   "execution_count": null,
   "metadata": {},
   "outputs": [],
   "source": [
    "a = {'a':1,'b':2}\n",
    "with open('test.pkl','wb') as f:\n",
    "    pickle.dump(a,f)"
   ]
  },
  {
   "cell_type": "code",
   "execution_count": null,
   "metadata": {},
   "outputs": [],
   "source": [
    "with open('data/mean_std.pkl','rb') as f:\n",
    "    res = pickle.load(f)\n",
    "    print(res)"
   ]
  },
  {
   "cell_type": "code",
   "execution_count": null,
   "metadata": {},
   "outputs": [],
   "source": [
    "np.mean([1,2,3,50,34])"
   ]
  },
  {
   "cell_type": "code",
   "execution_count": null,
   "metadata": {},
   "outputs": [],
   "source": [
    "np.mean([np.mean([1,34]),np.mean([2,3,50])])"
   ]
  },
  {
   "cell_type": "code",
   "execution_count": null,
   "metadata": {},
   "outputs": [],
   "source": []
  }
 ],
 "metadata": {
  "kernelspec": {
   "display_name": "Python 3",
   "language": "python",
   "name": "python3"
  },
  "language_info": {
   "codemirror_mode": {
    "name": "ipython",
    "version": 3
   },
   "file_extension": ".py",
   "mimetype": "text/x-python",
   "name": "python",
   "nbconvert_exporter": "python",
   "pygments_lexer": "ipython3",
   "version": "3.5.2"
  }
 },
 "nbformat": 4,
 "nbformat_minor": 2
}
