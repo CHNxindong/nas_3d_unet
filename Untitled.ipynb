{
 "cells": [
  {
   "cell_type": "code",
   "execution_count": null,
   "metadata": {},
   "outputs": [],
   "source": [
    "%load_ext autoreload\n",
    "%autoreload 2\n",
    "%matplotlib inline"
   ]
  },
  {
   "cell_type": "code",
   "execution_count": 47,
   "metadata": {},
   "outputs": [
    {
     "name": "stdout",
     "output_type": "stream",
     "text": [
      "data/Training.h5 exists already.\n",
      "data/Validation.h5 exists already.\n",
      "data/Testing.h5 exists already.\n"
     ]
    }
   ],
   "source": [
    "import h5py\n",
    "import nibabel as nib\n",
    "import os\n",
    "import glob\n",
    "from tqdm import *\n",
    "from dev_tools.my_tools import print_red\n",
    "import pdb\n",
    "import numpy as np\n",
    "\n",
    "with open('config.yml') as f:\n",
    "    config = yaml.load(f,Loader=yaml.FullLoader)\n",
    "\n",
    "def create_h5(source_folder,overwrite=False):\n",
    "#     pdb.set_trace()\n",
    "#     count = 0\n",
    "    try:\n",
    "        affine = np.load('data/affine.npy')\n",
    "    except:\n",
    "        affine = None\n",
    "    \n",
    "    target = os.path.join('data',source_folder.split('_')[-1]+'.h5')\n",
    "    \n",
    "    if os.path.exists(target):\n",
    "        if not overwrite:\n",
    "            print('{:s} exists already.'.format(target))\n",
    "            return\n",
    "    \n",
    "    with h5py.File(target,'w') as f:\n",
    "        img_dirs  = glob.glob(os.path.join(source_folder,'*/*' \n",
    "                                             if source_folder.split('_')[-1] == 'Training' else '*'))\n",
    "        for img_dir in tqdm_notebook(img_dirs,desc='writing {:s}'.format(target)):\n",
    "            if not os.path.isdir(img_dir):\n",
    "                continue\n",
    "            sub_id = img_dir.split('/')[-1]\n",
    "            h5_subid = f.create_group(sub_id)\n",
    "            brain_widths = []\n",
    "            for mod_file in os.listdir(img_dir):\n",
    "                img = nib.load(os.path.join(img_dir,mod_file))\n",
    "                if affine is None:\n",
    "                    affine = img.affine\n",
    "                    np.save('data/affine',affine)\n",
    "                img_npy = img.get_data()\n",
    "                h5_subid.create_dataset(mod_file,data=img_npy)\n",
    "                if mod_file.split('_')[-1].split('.')[0] != 'seg':\n",
    "                    brain_widths.append(cal_outline(img_npy))\n",
    "            start_edge = np.min(brain_widths,axis=0)[0]\n",
    "            end_edge = np.max(brain_widths,axis=0)[1]\n",
    "            brain_width = np.vstack((start_edge,end_edge))\n",
    "            h5_subid.create_dataset('brain_width',data=brain_width)\n",
    "    return\n",
    "#             count += 1\n",
    "#             if count > 3:\n",
    "#                 break\n",
    "\n",
    "def cal_outline(img_npy):\n",
    "    '''\n",
    "    return an numpy array shape=(2,3), indicating the outline of the brain area.\n",
    "    '''\n",
    "    brain_index = np.asarray(np.nonzero(img_npy))\n",
    "    start_edge = np.maximum(np.min(brain_index,axis=1)-1,0)\n",
    "    end_edge = np.minimum(np.max(brain_index,axis=1)+1,img_npy.shape)\n",
    "    \n",
    "    return np.vstack((start_edge,end_edge))\n",
    "\n",
    "create_h5(config['data']['source_train'])\n",
    "create_h5(config['data']['source_val'])\n",
    "create_h5(config['data']['source_test'])\n",
    "                          \n",
    "                          "
   ]
  },
  {
   "cell_type": "code",
   "execution_count": 44,
   "metadata": {},
   "outputs": [
    {
     "data": {
      "text/plain": [
       "True"
      ]
     },
     "execution_count": 44,
     "metadata": {},
     "output_type": "execute_result"
    }
   ],
   "source": [
    "not None"
   ]
  },
  {
   "cell_type": "code",
   "execution_count": 20,
   "metadata": {},
   "outputs": [
    {
     "data": {
      "application/vnd.jupyter.widget-view+json": {
       "model_id": "906b34cf63ca4e129695645b2748c4f8",
       "version_major": 2,
       "version_minor": 0
      },
      "text/plain": [
       "HBox(children=(FloatProgress(value=0.0), HTML(value='')))"
      ]
     },
     "metadata": {},
     "output_type": "display_data"
    },
    {
     "ename": "KeyboardInterrupt",
     "evalue": "",
     "output_type": "error",
     "traceback": [
      "\u001b[0;31m---------------------------------------------------------------------------\u001b[0m",
      "\u001b[0;31mKeyboardInterrupt\u001b[0m                         Traceback (most recent call last)",
      "\u001b[0;32m<ipython-input-20-bba317e24cee>\u001b[0m in \u001b[0;36m<module>\u001b[0;34m\u001b[0m\n\u001b[1;32m      1\u001b[0m \u001b[0;32mimport\u001b[0m \u001b[0mtime\u001b[0m\u001b[0;34m\u001b[0m\u001b[0m\n\u001b[1;32m      2\u001b[0m \u001b[0;32mfor\u001b[0m \u001b[0mi\u001b[0m \u001b[0;32min\u001b[0m \u001b[0mtqdm_notebook\u001b[0m\u001b[0;34m(\u001b[0m\u001b[0mrange\u001b[0m\u001b[0;34m(\u001b[0m\u001b[0;36m100\u001b[0m\u001b[0;34m)\u001b[0m\u001b[0;34m)\u001b[0m\u001b[0;34m:\u001b[0m\u001b[0;34m\u001b[0m\u001b[0m\n\u001b[0;32m----> 3\u001b[0;31m     \u001b[0mtime\u001b[0m\u001b[0;34m.\u001b[0m\u001b[0msleep\u001b[0m\u001b[0;34m(\u001b[0m\u001b[0;36m0.5\u001b[0m\u001b[0;34m)\u001b[0m\u001b[0;34m\u001b[0m\u001b[0m\n\u001b[0m",
      "\u001b[0;31mKeyboardInterrupt\u001b[0m: "
     ]
    }
   ],
   "source": [
    "import time\n",
    "for i in tqdm_notebook(range(100)):\n",
    "    time.sleep(0.5)"
   ]
  },
  {
   "cell_type": "code",
   "execution_count": 30,
   "metadata": {},
   "outputs": [
    {
     "name": "stdout",
     "output_type": "stream",
     "text": [
      "hello\n"
     ]
    }
   ],
   "source": [
    "print('hello')"
   ]
  },
  {
   "cell_type": "code",
   "execution_count": null,
   "metadata": {},
   "outputs": [],
   "source": []
  }
 ],
 "metadata": {
  "kernelspec": {
   "display_name": "Python 3",
   "language": "python",
   "name": "python3"
  },
  "language_info": {
   "codemirror_mode": {
    "name": "ipython",
    "version": 3
   },
   "file_extension": ".py",
   "mimetype": "text/x-python",
   "name": "python",
   "nbconvert_exporter": "python",
   "pygments_lexer": "ipython3",
   "version": "3.5.2"
  }
 },
 "nbformat": 4,
 "nbformat_minor": 2
}
