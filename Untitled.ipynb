{
 "cells": [
  {
   "cell_type": "code",
   "execution_count": 1,
   "metadata": {},
   "outputs": [],
   "source": [
    "%load_ext autoreload\n",
    "%autoreload 2\n",
    "%matplotlib inline\n",
    "import pdb\n",
    "import os"
   ]
  },
  {
   "cell_type": "code",
   "execution_count": null,
   "metadata": {},
   "outputs": [],
   "source": [
    "os.path.expanduser('~/')"
   ]
  },
  {
   "cell_type": "code",
   "execution_count": null,
   "metadata": {},
   "outputs": [],
   "source": [
    "import search\n",
    "x = search.Searching()\n",
    "\n",
    "x.log_clear()"
   ]
  },
  {
   "cell_type": "code",
   "execution_count": null,
   "metadata": {},
   "outputs": [],
   "source": [
    "import pickle\n",
    "with open('data/spe.pkl','rb') as f:\n",
    "    print(pickle.load(f))"
   ]
  },
  {
   "cell_type": "code",
   "execution_count": null,
   "metadata": {},
   "outputs": [],
   "source": [
    "import subprocess\n",
    "rst = subprocess.run('nvidia-smi -q -d Memory',stdout=subprocess.PIPE, shell=True).stdout.decode('utf-8')\n",
    "rst = rst.strip().split('\\n')\n",
    "memory_available = [int(line.split(':')[1].split(' ')[1]) for line in rst if 'Free' in line][::2]\n",
    "memory_available"
   ]
  },
  {
   "cell_type": "code",
   "execution_count": null,
   "metadata": {},
   "outputs": [],
   "source": [
    "import numpy as np\n",
    "# np.random.seed(1)\n",
    "np.random.rand(2)\n",
    "\n",
    "import logging\n",
    "logger = logging.getLogger(__name__)\n",
    "# logger.setLevel(level = logging.INFO)\n",
    "# handler = logging.FileHandler(\"log.log\")\n",
    "formatter = logging.Formatter('%(asctime)s - %(name)s - %(levelname)s - %(message)s')\n",
    "handler.setFormatter(formatter)\n",
    "\n",
    "console = logging.StreamHandler()\n",
    "console.setFormatter(formatter)\n",
    "# console.setLevel(logging.INFO)\n",
    "\n",
    "# logger.addHandler(handler)\n",
    "logger.addHandler(console)\n",
    "\n",
    "logger.info(\"Start print log\")\n",
    "# logger.debug(\"Do something\")\n",
    "logger.warning(\"Something maybe fail.xxxx\")\n",
    "logger.info(\"Finish\")\n",
    "while logger.handlers:\n",
    "    print(logger.handlers)\n",
    "    logger.handlers.pop()\n"
   ]
  },
  {
   "cell_type": "code",
   "execution_count": null,
   "metadata": {},
   "outputs": [],
   "source": [
    "import time\n",
    "time.strftime?"
   ]
  },
  {
   "cell_type": "code",
   "execution_count": 21,
   "metadata": {},
   "outputs": [
    {
     "name": "stdout",
     "output_type": "stream",
     "text": [
      "[6, 4, 8, 2, 7, 0, 3, 5, 1, 9]\n"
     ]
    },
    {
     "data": {
      "text/plain": [
       "[0, 1, 2, 3, 4, 5, 6, 7, 8, 9]"
      ]
     },
     "execution_count": 21,
     "metadata": {},
     "output_type": "execute_result"
    }
   ],
   "source": [
    "def merge(left, right):\n",
    "    if not left:\n",
    "        return right\n",
    "    if not right:\n",
    "        return left\n",
    "    if left[0] > right[0]:\n",
    "        return [right[0]] + merge(left, right[1:])\n",
    "    else:\n",
    "        return [left[0]] + merge(left[1:], right)\n",
    "\n",
    "def merge_sort(nums):\n",
    "    if len(nums) <= 1:\n",
    "        return nums\n",
    "    mid = len(nums) // 2\n",
    "    left = merge_sort(nums[:mid])\n",
    "    right = merge_sort(nums[mid:])\n",
    "    return merge(left, right)\n",
    "\n",
    "import random\n",
    "a = list(range(10))\n",
    "random.shuffle(a)\n",
    "print(a)\n",
    "merge_sort(a)\n",
    "    "
   ]
  },
  {
   "cell_type": "code",
   "execution_count": 3,
   "metadata": {
    "scrolled": false
   },
   "outputs": [
    {
     "data": {
      "application/vnd.jupyter.widget-view+json": {
       "model_id": "77d798ebcf49471d9fa80e2097cb1383",
       "version_major": 2,
       "version_minor": 0
      },
      "text/plain": [
       "HBox(children=(FloatProgress(value=0.0, description='Creating (id_index, patch) list', max=268.0, style=Progre…"
      ]
     },
     "metadata": {},
     "output_type": "display_data"
    },
    {
     "name": "stdout",
     "output_type": "stream",
     "text": [
      "\n"
     ]
    },
    {
     "data": {
      "application/vnd.jupyter.widget-view+json": {
       "model_id": "36a7b90ec6fe4cf4afe9734becf37737",
       "version_major": 2,
       "version_minor": 0
      },
      "text/plain": [
       "HBox(children=(FloatProgress(value=0.0, description='Creating (id_index, patch) list', max=67.0, style=Progres…"
      ]
     },
     "metadata": {},
     "output_type": "display_data"
    },
    {
     "name": "stdout",
     "output_type": "stream",
     "text": [
      "\n"
     ]
    },
    {
     "data": {
      "application/vnd.jupyter.widget-view+json": {
       "model_id": "46f13e370a04450b97cfe101adba897d",
       "version_major": 2,
       "version_minor": 0
      },
      "text/plain": [
       "HBox(children=(FloatProgress(value=0.0, max=297.0), HTML(value='')))"
      ]
     },
     "metadata": {},
     "output_type": "display_data"
    }
   ],
   "source": [
    "import time\n",
    "import generator\n",
    "from dev_tools.my_tools import print2d\n",
    "from tqdm.notebook import tqdm\n",
    "\n",
    "def test():\n",
    "#     pdb.set_trace()\n",
    "    temp = time.time()\n",
    "    dataset = generator.Dataset()\n",
    "    train = dataset.train_generator\n",
    "    val = dataset.val_generator\n",
    "    epoch = val.epoch()\n",
    "    for i,(x,y) in tqdm(enumerate(epoch),total = val.steps_per_epoch):\n",
    "#         pass\n",
    "        return x,y\n",
    "\n",
    "    print(time.time() - temp)\n",
    "x,y = test()"
   ]
  },
  {
   "cell_type": "code",
   "execution_count": 8,
   "metadata": {},
   "outputs": [
    {
     "data": {
      "text/plain": [
       "array([[3, 2, 4],\n",
       "       [4, 4, 1]])"
      ]
     },
     "execution_count": 8,
     "metadata": {},
     "output_type": "execute_result"
    }
   ],
   "source": [
    "import numpy as np\n",
    "x = np.random.randint(5,size=(2,3))\n",
    "x"
   ]
  },
  {
   "cell_type": "code",
   "execution_count": 17,
   "metadata": {},
   "outputs": [
    {
     "name": "stdout",
     "output_type": "stream",
     "text": [
      "tensor([[3., 2., 4.],\n",
      "        [4., 4., 1.]]) tensor([[1000,    2,    4],\n",
      "        [   4,    4,    1]]) tensor([[1000,    2,    4],\n",
      "        [   4,    4,    1]], device='cuda:0')\n",
      "tensor([[3., 2., 4.],\n",
      "        [4., 4., 1.]], device='cuda:0')\n",
      "tensor([[1000,    2,    4],\n",
      "        [   4,    4,    1]], device='cuda:0')\n"
     ]
    },
    {
     "data": {
      "text/plain": [
       "array([[1000,    2,    4],\n",
       "       [   4,    4,    1]])"
      ]
     },
     "execution_count": 17,
     "metadata": {},
     "output_type": "execute_result"
    }
   ],
   "source": [
    "\n",
    "import torch\n",
    "device = torch.device('cuda')\n",
    "a = torch.Tensor(x)\n",
    "b = torch.from_numpy(x)\n",
    "b[0,0] = 1000\n",
    "c = torch.as_tensor(x,device=device)\n",
    "# b = b.cuda()\n",
    "# print(a.dtype,b.dtype)\n",
    "# c.device\n",
    "# b.device\n",
    "# b.cuda()\n",
    "# c = torch.Tensor(2,3)\n",
    "# c.cuda()\n",
    "print(a,b,c)\n",
    "a = a.cuda()\n",
    "print(a)\n",
    "b = b.to(device)\n",
    "print(b)\n",
    "b[0,0] = 100\n",
    "c[0,0] = 100\n",
    "x"
   ]
  },
  {
   "cell_type": "code",
   "execution_count": null,
   "metadata": {},
   "outputs": [],
   "source": [
    "import g_test\n",
    "import time\n",
    "from dev_tools.my_tools import print2d\n",
    "\n",
    "def test():\n",
    "#     pdb.set_trace()\n",
    "    temp = time.time()\n",
    "    dataset = g_test.Dataset()\n",
    "    train = dataset.train_generator\n",
    "    val = dataset.val_generator\n",
    "#     epoch = val.epoch()\n",
    "#     for i,(x,y) in enumerate(epoch):\n",
    "#         print2d(x[0,0])\n",
    "#         print2d(y[0,0])\n",
    "#         if i>3:\n",
    "#             break\n",
    "    dataset.h5_file.close()\n",
    "    print(time.time() - temp)\n",
    "test()"
   ]
  },
  {
   "cell_type": "code",
   "execution_count": null,
   "metadata": {
    "scrolled": true
   },
   "outputs": [],
   "source": [
    "# Dataset\n",
    "from generator_noop import get_training_and_validation_generators\n",
    "from dev_tools.my_tools import print2d\n",
    "\n",
    "temp = time.time()\n",
    "a,b = get_training_and_validation_generators()\n",
    "\n",
    "for i,(x,y) in enumerate(b):\n",
    "    print2d(x[0,0])\n",
    "    print2d(y[0,0])\n",
    "    if i>3:\n",
    "        break\n",
    "print(time.time() - temp)"
   ]
  },
  {
   "cell_type": "code",
   "execution_count": null,
   "metadata": {
    "scrolled": false
   },
   "outputs": [],
   "source": [
    "from dev_tools.my_tools import print2d\n",
    "\n",
    "for i,(x,y) in enumerate(b):\n",
    "    print2d(x[0,0])\n",
    "    print2d(y[0,0])\n",
    "    if i>3:\n",
    "        break\n",
    "\n"
   ]
  },
  {
   "cell_type": "code",
   "execution_count": null,
   "metadata": {},
   "outputs": [],
   "source": [
    "with open('config.yml') as f:\n",
    "    config = yaml.load(f,Loader=yaml.FullLoader)\n",
    "    print(config['data'])\n",
    "with open('a.yml','w') as f:\n",
    "    yaml.dump({'a':[1,2,3]},f)"
   ]
  },
  {
   "cell_type": "code",
   "execution_count": null,
   "metadata": {},
   "outputs": [],
   "source": [
    "import h5py\n",
    "class test():\n",
    "    def __init__(self):\n",
    "        self.h5_f = h5py.File('data/training.h5','r')\n",
    "    def hello(self):\n",
    "        print(len(list(self.h5_f.keys())))\n",
    "    def end(self):\n",
    "        self.h5_f.close()\n",
    "t = test()\n",
    "t.hello()\n",
    "t.end()\n",
    "t.__init__()\n",
    "t.hello()"
   ]
  },
  {
   "cell_type": "code",
   "execution_count": null,
   "metadata": {},
   "outputs": [],
   "source": [
    "\n",
    "\n",
    "# temp = time.time()\n",
    "# print(patching_autofit((240,240,155),(128,128,128)))\n",
    "# print(time.time()-temp)\n",
    "# temp = time.time()\n",
    "# print(patching_hardcode128((240,240,155),(128,128,128)))\n",
    "# print(time.time()-temp)\n",
    "# print(patching((240,240,155),(128,128,128)))\n",
    "\n",
    "# print(np.vstack((a,b)))\n",
    "print('\\n')\n",
    "print(patching((240,240,155),(128,128,128)))\n",
    "print('\\n')\n",
    "print(patching((240,240,155),(128,128,128),overlap=16))"
   ]
  },
  {
   "cell_type": "code",
   "execution_count": null,
   "metadata": {},
   "outputs": [],
   "source": [
    "float('inf') == float('inf')"
   ]
  },
  {
   "cell_type": "code",
   "execution_count": null,
   "metadata": {},
   "outputs": [],
   "source": [
    "(np.array([8,6+12]) -18) % 24"
   ]
  },
  {
   "cell_type": "code",
   "execution_count": null,
   "metadata": {},
   "outputs": [],
   "source": [
    "a = {'a':1,'b':2}\n",
    "with open('test.pkl','wb') as f:\n",
    "    pickle.dump(a,f)"
   ]
  },
  {
   "cell_type": "code",
   "execution_count": null,
   "metadata": {},
   "outputs": [],
   "source": [
    "with open('data/mean_std.pkl','rb') as f:\n",
    "    res = pickle.load(f)\n",
    "    print(res)"
   ]
  },
  {
   "cell_type": "code",
   "execution_count": null,
   "metadata": {},
   "outputs": [],
   "source": [
    "np.mean([1,2,3,50,34])"
   ]
  },
  {
   "cell_type": "code",
   "execution_count": null,
   "metadata": {},
   "outputs": [],
   "source": [
    "np.mean([np.mean([1,34]),np.mean([2,3,50])])"
   ]
  },
  {
   "cell_type": "code",
   "execution_count": null,
   "metadata": {},
   "outputs": [],
   "source": []
  }
 ],
 "metadata": {
  "kernelspec": {
   "display_name": "Python 3",
   "language": "python",
   "name": "python3"
  },
  "language_info": {
   "codemirror_mode": {
    "name": "ipython",
    "version": 3
   },
   "file_extension": ".py",
   "mimetype": "text/x-python",
   "name": "python",
   "nbconvert_exporter": "python",
   "pygments_lexer": "ipython3",
   "version": "3.5.2"
  }
 },
 "nbformat": 4,
 "nbformat_minor": 2
}
